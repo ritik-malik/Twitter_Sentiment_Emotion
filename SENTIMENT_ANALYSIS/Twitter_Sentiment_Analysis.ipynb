{
 "cells": [
  {
   "cell_type": "markdown",
   "metadata": {},
   "source": [
    "# Twitter Sentiment Analysis"
   ]
  },
  {
   "cell_type": "markdown",
   "metadata": {},
   "source": [
    "## Import libraries"
   ]
  },
  {
   "cell_type": "code",
   "execution_count": 1,
   "metadata": {},
   "outputs": [],
   "source": [
    "import pandas, pickle, re, json, numpy\n",
    "from os import listdir, mkdir, chdir\n",
    "from sklearn.metrics import confusion_matrix, accuracy_score, classification_report\n",
    "from sklearn.feature_extraction.text import CountVectorizer\n",
    "from sklearn.neural_network import MLPClassifier\n",
    "from sklearn.tree import DecisionTreeClassifier\n",
    "from sklearn.svm import SVC\n",
    "import matplotlib.pyplot as plt\n",
    "from time import time\n",
    "from pprint import pprint\n",
    "import seaborn as sns\n",
    "\n",
    "# for MLP warnings\n",
    "import warnings\n",
    "warnings.filterwarnings('ignore')"
   ]
  },
  {
   "cell_type": "markdown",
   "metadata": {},
   "source": [
    "## Global variables for files, lists & dicts"
   ]
  },
  {
   "cell_type": "code",
   "execution_count": 2,
   "metadata": {},
   "outputs": [
    {
     "name": "stdout",
     "output_type": "stream",
     "text": [
      "Started the stopwatch...\n"
     ]
    }
   ],
   "source": [
    "TRAIN_DATA_PATH = '../sentiment_train_5k.csv'\n",
    "TEST_DATA_PATH = '../sentiment_test_1k.csv'\n",
    "\n",
    "print(\"Started the stopwatch...\")\n",
    "start_time = time()\n",
    "TS_DB_Train = []        # tweet, sentiment database for training\n",
    "TS_DB_Test = []         # tweet, sentiment database for testing\n",
    "vocabulary = {}         # vocab dictionary\n",
    "\n",
    "X_Train = []    # Training_Set , with features \n",
    "Y_Train = []    # Training_Result\n",
    "\n",
    "X_Test = []     # Testing_Set , with features\n",
    "Y_Test = []     # Testing_Result\n",
    "\n",
    "BingLiuPositiveLexicons = {}    # +ve lexicon dict\n",
    "BingLiuNegativeLexicons = {}    # -ve lexicon dict\n",
    "\n",
    "accuracy = 0\n",
    "accuracy_DB = []\n",
    "confusion = [[0,0],[0,0]]       # confusion matrix\n"
   ]
  },
  {
   "cell_type": "markdown",
   "metadata": {},
   "source": [
    "## Load required files\n",
    "* **contractions.json** contains the list of contraction words, to be replaced in tweets\n",
    "* All the models & stuff are saved in a new folder (if not already present) named **assets**\n",
    "* **The BingLiu.csv** has been broken into 2 new files for +ve & -ve lexicons respectively "
   ]
  },
  {
   "cell_type": "code",
   "execution_count": 3,
   "metadata": {},
   "outputs": [
    {
     "name": "stdout",
     "output_type": "stream",
     "text": [
      "Time to read contractions & lexicons -> 0.010230541229248047\n"
     ]
    }
   ],
   "source": [
    "## load contractions\n",
    "with open('contractions.json', 'r') as f:\n",
    "    contractions_dict = json.load(f)\n",
    "contractions = contractions_dict['contractions']\n",
    "\n",
    "## load lexicons\n",
    "with open('BingLiuPositiveLexicons.txt') as f:\n",
    "    for i in f:\n",
    "        BingLiuPositiveLexicons[i.rstrip()]=True\n",
    "\n",
    "with open('BingLiuNegativeLexicons.txt') as f:\n",
    "    for i in f:\n",
    "        BingLiuNegativeLexicons[i.rstrip()]=True\n",
    "\n",
    "# every saved stuff here\n",
    "if 'assets' not in listdir():\n",
    "    mkdir('assets')\n",
    "chdir('assets')\n",
    "\n",
    "print(\"Time to read contractions & lexicons ->\",time() - start_time)\n"
   ]
  },
  {
   "cell_type": "markdown",
   "metadata": {},
   "source": [
    "## Prerprocessing functions\n",
    "* The **emoji** function replaces the emoji in tweet with either **positiveemoji** or **negetiveemoji**\n",
    "* **The process_tweet** preprocesses the tweets into a new column in the dataframe"
   ]
  },
  {
   "cell_type": "code",
   "execution_count": 4,
   "metadata": {},
   "outputs": [],
   "source": [
    "def emoji(tweet):\n",
    "    # Smile -- :), : ), :-), (:, ( :, (-:, :') , :O\n",
    "    tweet = re.sub(r'(:\\s?\\)|:-\\)|\\(\\s?:|\\(-:|:\\'\\)|:O)', ' positiveemoji ', tweet)\n",
    "    # Laugh -- :D, : D, :-D, xD, x-D, XD, X-D\n",
    "    tweet = re.sub(r'(:\\s?D|:-D|x-?D|X-?D)', ' positiveemoji ', tweet)\n",
    "    # Love -- <3, :*\n",
    "    tweet = re.sub(r'(<3|:\\*)', ' positiveemoji ', tweet)\n",
    "    # Wink -- ;-), ;), ;-D, ;D, (;,  (-; , @-)\n",
    "    tweet = re.sub(r'(;-?\\)|;-?D|\\(-?;|@-\\))', ' positiveemoji ', tweet)\n",
    "    # Sad -- :-(, : (, :(, ):, )-:, :-/ , :-|\n",
    "    tweet = re.sub(r'(:\\s?\\(|:-\\(|\\)\\s?:|\\)-:|:-/|:-\\|)', ' negetiveemoji ', tweet)\n",
    "    # Cry -- :,(, :'(, :\"(\n",
    "    tweet = re.sub(r'(:,\\(|:\\'\\(|:\"\\()', ' negetiveemoji ', tweet)\n",
    "    return tweet\n",
    "\n",
    "punctuations = []\n",
    "\n",
    "def process_tweet(tweet):\n",
    "    tweet = re.sub('@[^\\s]+', '', tweet)                              # Removes usernames\n",
    "    tweet = re.sub('((www\\.[^\\s]+)|(https?://[^\\s]+))', ' ', tweet)   # Remove URLs\n",
    "    tweet = re.sub(r\"\\d+\", \" \", str(tweet))                           # Removes all digits\n",
    "    tweet = re.sub('&quot;',\" \", tweet)                               # Remove (&quot;) \n",
    "    tweet = emoji(tweet)                                              # Replaces Emojis\n",
    "    tweet = re.sub(r\"\\b[a-zA-Z]\\b\", \"\", str(tweet))                   # Removes all single characters\n",
    "    for word in tweet.split():\n",
    "        if word.lower() in contractions:\n",
    "            tweet = tweet.replace(word, contractions[word.lower()])   # Replaces contractions\n",
    "    \n",
    "    punctuations.append(len(re.findall('!', tweet)) + len(re.findall('\\?', tweet)))  # counts freq of '!' & '?'\n",
    "    tweet = re.sub(r\"[^\\w\\s]\", \" \", str(tweet))                       # Removes all punctuations\n",
    "    tweet = re.sub(r\"\\s+\", \" \", str(tweet))                           # Replaces double spaces with single space    \n",
    "    return tweet\n"
   ]
  },
  {
   "cell_type": "markdown",
   "metadata": {},
   "source": [
    "## Preprocess Tweet_Sentiment_Training dataset\n",
    "* Read the training set into pandas df (if not found in assets)\n",
    "* Call preprocessing functions on the tweets column\n",
    "* Make a new column for the resultant tweets\n",
    "* Save the result in assets (else skip all simply load it)"
   ]
  },
  {
   "cell_type": "code",
   "execution_count": 5,
   "metadata": {},
   "outputs": [
    {
     "name": "stdout",
     "output_type": "stream",
     "text": [
      "Time to import + read + save training data -> 0.30666232109069824\n"
     ]
    }
   ],
   "source": [
    "if 'TS_DB_Train' not in listdir():\n",
    "    # read traning dataset\n",
    "    train_data = pandas.read_csv(TRAIN_DATA_PATH)\n",
    "\n",
    "    # set \"sentiment\" & tweets as global var for training data\n",
    "    sentiment = train_data.columns.values[0]\n",
    "    tweet = train_data.columns.values[5]\n",
    "\n",
    "    ##### preprocessing\n",
    "    train_data['processed_tweet'] = numpy.vectorize(process_tweet)(train_data[tweet])\n",
    "\n",
    "\n",
    "    # make TS_DB_Train\n",
    "    for i in range(len(train_data[sentiment])):\n",
    "        TS_DB_Train.append([train_data[sentiment][i],train_data['processed_tweet'][i]])\n",
    "\n",
    "    # now save it\n",
    "    with open('TS_DB_Train', 'wb') as f:\n",
    "        pickle.dump(TS_DB_Train, f, protocol=pickle.HIGHEST_PROTOCOL)\n",
    "        \n",
    "    print(\"Time to import + read + save training data ->\",time() - start_time)\n",
    "else:\n",
    "    # load\n",
    "    print('TS_DB_Train found! Loading it...')\n",
    "    with open('TS_DB_Train', 'rb') as f:\n",
    "        TS_DB_Train = pickle.load(f)\n",
    "\n",
    "    print(\"Time to import + read + save training data ->\",time() - start_time)\n",
    "    "
   ]
  },
  {
   "cell_type": "markdown",
   "metadata": {},
   "source": [
    "## Build the vocalulary\n",
    "* For all words in all tweets, append the frequency of it's appearance in +ve & -ve sentiments\n",
    "* Also, by default add 1, for smoothing\n",
    "* Now save the vocabulary, else skip all & directly load it"
   ]
  },
  {
   "cell_type": "code",
   "execution_count": 6,
   "metadata": {},
   "outputs": [
    {
     "name": "stdout",
     "output_type": "stream",
     "text": [
      "Vocabulary not found! building new one\n",
      "Saving the vocabulary in current dir...\n",
      "Length of vocabulary -> 10554\n",
      "Time to build vocabulary -> 0.36818385124206543\n"
     ]
    }
   ],
   "source": [
    "# now build vocalbulary\n",
    "if 'vocabulary.pickle' not in listdir():\n",
    "    print('Vocabulary not found! building new one')\n",
    "    for i in TS_DB_Train:\n",
    "        words = list(map(str,i[1].split()))\n",
    "        for j in words:\n",
    "            if j in vocabulary:\n",
    "                if i[0] == 4:   # if +ve, then add 1 to right side\n",
    "                    vocabulary[j][1] += 1\n",
    "                else:           # else -ve, then add 1 to left\n",
    "                    vocabulary[j][0] += 1\n",
    "            else:               # new word, add 1,1 for smoothing\n",
    "                vocabulary[j] = [1,1]\n",
    "                if i[0] == 4:\n",
    "                    vocabulary[j][1] += 1\n",
    "                else:\n",
    "                    vocabulary[j][0] += 1\n",
    "    # save vocabulary\n",
    "    print('Saving the vocabulary in current dir...')\n",
    "    with open('vocabulary.pickle', 'wb') as handle:\n",
    "        pickle.dump(vocabulary, handle, protocol=pickle.HIGHEST_PROTOCOL)\n",
    "else:\n",
    "    # load vocabulary from pickle\n",
    "    print('Vocabulary found! Loading it...')\n",
    "    with open('vocabulary.pickle', 'rb') as handle:\n",
    "        vocabulary = pickle.load(handle)\n",
    "        \n",
    "print('Length of vocabulary ->',len(vocabulary))\n",
    "\n",
    "print(\"Time to build vocabulary ->\",time() - start_time)\n"
   ]
  },
  {
   "cell_type": "markdown",
   "metadata": {},
   "source": [
    "## Feature functions\n",
    "1. check_elongation : Counts the freq of elongated words in a tweet\n",
    "2. check_hashtag : Counts the freq of hashtags used in a tweet\n",
    "3. check_CAPS : Counts the freq of CAPS words in a tweet\n",
    "4. check_negation : Counts the freq of negative words in a tweet\n",
    "5. check_p_emoji : Count the occurence of **positiveemoji** in a tweet\n",
    "6. check_n_emoji : Count the occurence of **negativeemoji** in a tweet\n",
    "7. check_p_lexicon : Count the freq of Positive Lexicons from BingLiu dataset\n",
    "8. check_n_lexicon : Count the freq of Negative Lexicons from BingLiu dataset\n",
    "\n",
    "* More features ahead like normalized score, punctuations, Count Vectorization (unigram + bigram)"
   ]
  },
  {
   "cell_type": "code",
   "execution_count": 7,
   "metadata": {},
   "outputs": [],
   "source": [
    "############### features #################\n",
    "\n",
    "def check_elongation(word):\n",
    "    temp = re.sub(r'(.)\\1+', r'\\1\\1', word)\n",
    "    if len(temp) != len(word):\n",
    "        return 1\n",
    "    else:\n",
    "        return 0\n",
    "\n",
    "def check_hashtag(word):\n",
    "    if word[0] != \"#\":\n",
    "        return 0\n",
    "    return 1\n",
    "\n",
    "def check_CAPS(word):\n",
    "    if word.isupper():\n",
    "        return 1\n",
    "    return 0\n",
    "\n",
    "def check_negation(word):\n",
    "    if word.lower() in ['not', 'no', 'nope', 'nopes', 'never', 'neither', 'nor', 'none']:\n",
    "        return 1\n",
    "    return 0\n",
    "\n",
    "def check_p_emoji(word):\n",
    "    if word == 'positiveemoji':\n",
    "        return 1\n",
    "    return 0\n",
    "\n",
    "def check_n_emoji(word):\n",
    "    if word == 'negativeemoji':\n",
    "        return 1\n",
    "    return 0\n",
    "\n",
    "def check_p_lexicon(word):\n",
    "    if word in BingLiuPositiveLexicons:\n",
    "        return 1\n",
    "    return 0\n",
    "\n",
    "def check_n_lexicon(word):\n",
    "    if word in BingLiuNegativeLexicons:\n",
    "        return 1\n",
    "    return 0"
   ]
  },
  {
   "cell_type": "markdown",
   "metadata": {},
   "source": [
    "## Making X_Train & Y_Train\n",
    "* Append a new empty list of features in **X_Train** for every tweet\n",
    "* Fill the values in list by calling all the feature functions\n",
    "* Also add a new **normalized_score_for_tweet** feature, by using the vocalbulary build earlier\n",
    "* Add the new **punctuation** feature\n",
    "* Add tweet sentiment results in **Y_Train**\n",
    "* Save them, if already saved, skip everthing & directly load them"
   ]
  },
  {
   "cell_type": "code",
   "execution_count": 8,
   "metadata": {},
   "outputs": [
    {
     "name": "stdout",
     "output_type": "stream",
     "text": [
      "Making X_Train & Y_Train from features.....\n",
      "Time to make X_Train & Y_Train -> 0.8382604122161865\n"
     ]
    }
   ],
   "source": [
    "###### now make X_Train & Y_Train\n",
    "\n",
    "if 'X_Train' not in listdir():\n",
    "\n",
    "    print(\"Making X_Train & Y_Train from features.....\")\n",
    "    for i in TS_DB_Train:\n",
    "                    #  [0,1,2,3,4,5,6,7,8]      # append 1 for punctuation after this loop\n",
    "        X_Train.append([0,0,0,0,0,0,0,0,0])    # [normalized score for tweet, +ve lexicons, -ve lexicons, enlongated, hastag, allcaps, negation, +ve emoji, -ve emoji]   # append punctuation\n",
    "        Y_Train.append(i[0])                       # [actual result]\n",
    "        \n",
    "        p_score = 1\n",
    "        n_score = 1\n",
    "        test_tweet = list(map(str,i[1].split()))\n",
    "        for j in test_tweet:\n",
    "            X_Train[-1][1] += check_p_lexicon(j)\n",
    "            X_Train[-1][2] += check_n_lexicon(j)\n",
    "            X_Train[-1][3] += check_elongation(j)\n",
    "            X_Train[-1][4] += check_hashtag(j)\n",
    "            X_Train[-1][5] += check_CAPS(j)\n",
    "            X_Train[-1][6] += check_negation(j)\n",
    "            X_Train[-1][7] += check_p_emoji(j)\n",
    "            X_Train[-1][8] += check_n_emoji(j)\n",
    "            \n",
    "            \n",
    "            if j in vocabulary:\n",
    "                # total_score = vocabulary[j][0] + vocabulary[j][1]\n",
    "                p_score*= vocabulary[j][1]\n",
    "                n_score*= vocabulary[j][0]\n",
    "\n",
    "        X_Train[-1][0] = p_score/(p_score+n_score)\n",
    "\n",
    "    ####### add punctuation column\n",
    "    for i in range(len(punctuations)-1):\n",
    "        X_Train[i].append(punctuations[i])  # new column\n",
    "\n",
    "    # now save\n",
    "    with open('X_Train', 'wb') as f:\n",
    "        pickle.dump(X_Train, f, protocol=pickle.HIGHEST_PROTOCOL)\n",
    "    with open('Y_Train', 'wb') as f:\n",
    "        pickle.dump(Y_Train, f, protocol=pickle.HIGHEST_PROTOCOL)\n",
    "\n",
    "    print(\"Time to make X_Train & Y_Train ->\",time() - start_time)\n",
    "else:\n",
    "    print(\"Found X_Train & Y_Train, loading...\")\n",
    "    with open('X_Train', 'rb') as f:\n",
    "        X_Train = pickle.load(f)\n",
    "    with open('Y_Train', 'rb') as f:\n",
    "        Y_Train = pickle.load(f)\n",
    "\n",
    "    print(\"Time to load saved X_Train, Y_Train ->\",time() - start_time)\n",
    "    \n",
    "# pprint(X_Train)"
   ]
  },
  {
   "cell_type": "markdown",
   "metadata": {},
   "source": [
    "## Now make the Tweet_Sentiment_Testing dataset\n",
    "* Read the testing dataset into pandas\n",
    "* Perform the preprocessing\n",
    "* Add the preprocessed tweet to new column\n",
    "* Append Tweets & Sentiment to TS_DB_Test"
   ]
  },
  {
   "cell_type": "code",
   "execution_count": 9,
   "metadata": {},
   "outputs": [
    {
     "name": "stdout",
     "output_type": "stream",
     "text": [
      "Now testing part starts...\n",
      "Time to import + read + save testing data -> 0.901008129119873\n"
     ]
    }
   ],
   "source": [
    "########### Making TS_DB_Test\n",
    "\n",
    "print(\"Now testing part starts...\")\n",
    "\n",
    "test_data = pandas.read_csv(TEST_DATA_PATH)\n",
    "\n",
    "# set \"sentiment\" & tweets as global var for testing data\n",
    "sentiment = test_data.columns.values[0]\n",
    "tweet = test_data.columns.values[5]\n",
    "\n",
    "######## preprocessing\n",
    "punctuations = []\n",
    "test_data['processed_tweet'] = numpy.vectorize(process_tweet)(test_data[tweet])\n",
    "\n",
    "\n",
    "# make TS_DB_Test\n",
    "for i in range(len(test_data[sentiment])):\n",
    "    TS_DB_Test.append([test_data[sentiment][i],test_data['processed_tweet'][i]])\n",
    "\n",
    "print(\"Time to import + read + save testing data ->\",time() - start_time)\n"
   ]
  },
  {
   "cell_type": "markdown",
   "metadata": {},
   "source": [
    "## X_Test, Y_Test & impelementing Naive Bayes\n",
    "* Append empty features list in **X_Test**\n",
    "* Add new column for **punctuations**\n",
    "* Append the sentiment results in **Y_Test**\n",
    "* Calculate **normalized_score_for_tweet** using the vocalbulary\n",
    "* Match the score with actual result\n",
    "* If correct, increase the **accuracy**"
   ]
  },
  {
   "cell_type": "code",
   "execution_count": 10,
   "metadata": {},
   "outputs": [],
   "source": [
    "######## making X_Test , Y_Test [IMPLEMENT NAIVE BAYES]\n",
    "\n",
    "for i in range(len(TS_DB_Test) -1,-1,-1):\n",
    "    try:\n",
    "        p_score = 1\n",
    "        n_score = 1\n",
    "                    # [0,1,2,3,4,5,6,7,8,9]\n",
    "        X_Test.append([0,0,0,0,0,0,0,0,0,0])        # [normalized score for tweet, +ve lexicons, -ve lexicons, enlongated, hastag, allcaps, negation, +ve emoji, -ve emoji] # append punctuation side by side\n",
    "        test_tweet = list(map(str,TS_DB_Test[i][1].split()))\n",
    "        for j in test_tweet:\n",
    "            if j in vocabulary:\n",
    "                # total_score = vocabulary[j][0] + vocabulary[j][1]\n",
    "                p_score*= vocabulary[j][1]\n",
    "                n_score*= vocabulary[j][0]\n",
    "            \n",
    "            X_Test[-1][1] += check_p_lexicon(j)\n",
    "            X_Test[-1][2] += check_n_lexicon(j)\n",
    "            X_Test[-1][3] += check_elongation(j)\n",
    "            X_Test[-1][4] += check_hashtag(j)\n",
    "            X_Test[-1][5] += check_CAPS(j)\n",
    "            X_Test[-1][6] += check_negation(j)\n",
    "            X_Test[-1][7] += check_p_emoji(j)\n",
    "            X_Test[-1][8] += check_n_emoji(j)\n",
    "\n",
    "        X_Test[-1][0] = p_score/(n_score+p_score)    # normalized score for tweet\n",
    "\n",
    "        ####### add punctuation values\n",
    "        X_Test[-1][9] = punctuations[i]\n",
    "\n",
    "        if p_score > n_score:\n",
    "            senti = 4\n",
    "        else:\n",
    "            senti = 0\n",
    "        \n",
    "        accuracy_DB.append(senti)          # append result to DB\n",
    "        if senti == TS_DB_Test[i][0]:   # check with actual result\n",
    "            accuracy += 1\n",
    "        Y_Test.append(TS_DB_Test[i][0]) # append actual test result\n",
    "\n",
    "    except:\n",
    "        pass\n"
   ]
  },
  {
   "cell_type": "markdown",
   "metadata": {},
   "source": [
    "## Result for Naive Bayes\n",
    "* Print the accuracy for Naive Bayes approach\n",
    "* Print the len of X/Y_Train, X/Y_Test\n",
    "* Print the confusion matrix\n",
    "* Print the precision, recall & macro-average F1 score"
   ]
  },
  {
   "cell_type": "code",
   "execution_count": 11,
   "metadata": {},
   "outputs": [
    {
     "name": "stdout",
     "output_type": "stream",
     "text": [
      "\n",
      "Result for Naive bayes ->\n",
      "Correct words =  688\n",
      "Total words =  999\n",
      "accuracy =  68.86886886886887 %\n",
      "Time taken for naive bayes -> 0.9973759651184082\n",
      "len(X_Train) = 4999, len(Y_Train) = 4999, len(X_Test) = 999, len(Y_Test) = 999\n",
      "\n",
      "Confusion Matrix ->\n",
      "Row has the original values, while column represents the predicted values\n",
      "\t\tNegative\tPositive\n",
      "Negative\t 391 \t\t 70\n",
      "Positive\t 241 \t\t 297\n",
      "\n",
      "For positive sentiment ->\n",
      "precision = 0.8092643051771117\n",
      "recall =  0.5520446096654275\n",
      "Macro average f1s =  0.6563535911602209\n"
     ]
    }
   ],
   "source": [
    "print(\"\\nResult for Naive bayes ->\")\n",
    "\n",
    "print(\"Correct words = \",accuracy)\n",
    "print(\"Total words = \",len(TS_DB_Test))\n",
    "print(\"accuracy = \",(accuracy/len(TS_DB_Test))*100,'%') \n",
    "print(\"Time taken for naive bayes ->\",time() - start_time)\n",
    "\n",
    "print(\"len(X_Train) = {}, len(Y_Train) = {}, len(X_Test) = {}, len(Y_Test) = {}\".format(len(X_Train),len(Y_Train),len(X_Test),len(Y_Test)))\n",
    "\n",
    "# make confusion matrix\n",
    "for i in range(len(accuracy_DB)):          # compare actual & predicted result\n",
    "    if accuracy_DB[i] == Y_Test[i] == 4:\n",
    "        confusion[1][1]+=1\n",
    "    elif accuracy_DB[i] == Y_Test[i] == 0:\n",
    "        confusion[0][0]+=1\n",
    "    elif accuracy_DB[i] == 4 and Y_Test[i] == 0:\n",
    "        confusion[0][1]+=1\n",
    "    else:\n",
    "        confusion[1][0]+=1\n",
    "\n",
    "print(\"\\nConfusion Matrix ->\")\n",
    "print(\"Row has the original values, while column represents the predicted values\")\n",
    "print('\\t\\tNegative\\tPositive')\n",
    "print('Negative\\t',confusion[0][0],'\\t\\t',confusion[0][1])\n",
    "print('Positive\\t',confusion[1][0],'\\t\\t',confusion[1][1])\n",
    "\n",
    "TP_POS = confusion[1][1]\n",
    "FP_POS = confusion[0][1]\n",
    "FN_POS = confusion[1][0]\n",
    "\n",
    "TP_NEG = confusion[0][0]\n",
    "FP_NEG = confusion[1][0]\n",
    "FN_NEG = confusion[0][1]\n",
    "\n",
    "print(\"\\nFor positive sentiment ->\")\n",
    "precision = TP_POS / (TP_POS + FP_POS)\n",
    "print(\"precision =\",precision)\n",
    "recall = TP_POS / (TP_POS + FN_POS)\n",
    "print(\"recall = \",recall)\n",
    "print(\"Macro average f1s = \",2*precision*recall/(precision+recall))\n",
    "    \n",
    "\n",
    "\n",
    "# naive bayes over now preapre for SVM"
   ]
  },
  {
   "cell_type": "markdown",
   "metadata": {},
   "source": [
    "## Count Vectorization \n",
    "* Convert X/Y_Train, X/Y_Test to pandas DataFrame\n",
    "* Read training + testing dataset, perform preprocessing\n",
    "* Apply Count Vectorization on them (unigram + bigram)\n",
    "* Convert the Vectorized data to pandas DataFrame\n",
    "* Concatenate the Vectorzied DFs with their respective X_Train & X_Test DFs columnwise\n",
    "* Save all the DFs, if already saved, skip everything & simply load them\n",
    "<br><br>\n",
    "+ Useful link - https://stackoverflow.com/questions/40370800/insert-result-of-sklearn-countvectorizer-in-a-pandas-dataframe"
   ]
  },
  {
   "cell_type": "code",
   "execution_count": 12,
   "metadata": {},
   "outputs": [
    {
     "name": "stdout",
     "output_type": "stream",
     "text": [
      "Making DF & saving them...\n",
      "Applying count vectorization!\n",
      "Time to make & save DFs, apply count vectorization -> 4.7886998653411865\n"
     ]
    }
   ],
   "source": [
    "\n",
    "if 'X_Train_DF' not in listdir():\n",
    "    print(\"Making DF & saving them...\")\n",
    "    X_Train_DF = pandas.DataFrame(X_Train)\n",
    "    Y_Train_DF = pandas.DataFrame(Y_Train)\n",
    "    X_Test_DF = pandas.DataFrame(X_Test)\n",
    "    Y_Test_DF = pandas.DataFrame(Y_Test)\n",
    "\n",
    "    print(\"Applying count vectorization!\")\n",
    "    count_vectorizer = CountVectorizer(ngram_range=(1,2))    # Unigram and Bigram\n",
    "    \n",
    "    train_data = pandas.read_csv(TRAIN_DATA_PATH)\n",
    "    ############### preprocessing\n",
    "    train_data['processed_tweet'] = numpy.vectorize(process_tweet)(train_data['5'])\n",
    "    final_vectorized_data = count_vectorizer.fit_transform(train_data['processed_tweet'])\n",
    "\n",
    "    # Convert sparse csr_matrix to dense format and allow columns to contain the array mapping from feature integer indices to feature names\n",
    "    count_vect_df = pandas.DataFrame(final_vectorized_data.todense(), columns=count_vectorizer.get_feature_names())\n",
    "    # Concatenate the original X_Train and the count_vect_df columnwise.\n",
    "    X_Train_DF = pandas.concat([X_Train_DF, count_vect_df], axis=1)\n",
    "    \n",
    "    ##############\n",
    "    \n",
    "    test_data = pandas.read_csv(TEST_DATA_PATH)\n",
    "    ############### preprocessing\n",
    "    test_data['processed_tweet'] = numpy.vectorize(process_tweet)(test_data['5'])\n",
    "    final_vectorized_data = count_vectorizer.transform(test_data['processed_tweet'])\n",
    "\n",
    "    # Convert sparse csr_matrix to dense format and allow columns to contain the array mapping from feature integer indices to feature names\n",
    "    count_vect_df = pandas.DataFrame(final_vectorized_data.todense(), columns=count_vectorizer.get_feature_names())\n",
    "    # Concatenate the original X_Train and the count_vect_df columnwise.\n",
    "    X_Test_DF = pandas.concat([X_Test_DF, count_vect_df], axis=1)\n",
    "\n",
    "    with open('X_Train_DF', 'wb') as f:\n",
    "        pickle.dump(X_Train_DF,f, protocol=pickle.HIGHEST_PROTOCOL)\n",
    "    with open('Y_Train_DF', 'wb') as f:\n",
    "        pickle.dump(Y_Train_DF,f, protocol=pickle.HIGHEST_PROTOCOL)\n",
    "    with open('X_Test_DF', 'wb') as f:\n",
    "        pickle.dump(X_Test_DF,f, protocol=pickle.HIGHEST_PROTOCOL)\n",
    "    with open('Y_Test_DF', 'wb') as f:\n",
    "        pickle.dump(Y_Test_DF,f, protocol=pickle.HIGHEST_PROTOCOL)\n",
    "\n",
    "    print(\"Time to make & save DFs, apply count vectorization ->\",time() - start_time)    \n",
    "else:\n",
    "    X_Train_DF = pickle.load(open(\"X_Train_DF\" ,\"rb\"))\n",
    "    Y_Train_DF = pickle.load(open(\"Y_Train_DF\" ,\"rb\"))\n",
    "    X_Test_DF = pickle.load(open(\"X_Test_DF\" ,\"rb\"))\n",
    "    Y_Test_DF = pickle.load(open(\"Y_Test_DF\" ,\"rb\"))\n",
    "    print(\"Time to load saved DFs ->\",time() - start_time)\n"
   ]
  },
  {
   "cell_type": "markdown",
   "metadata": {},
   "source": [
    "## Result for SVM\n",
    "* Make SVM model using .fit(X_Train_DF, Y_Train)\n",
    "* Save it, if already saved, skip above & load model\n",
    "* Predict the accuracy using .score(X_Test_DF, Y_Test)\n",
    "* Make Confusion matrix using heatmap\n",
    "* Make Classification report on precision, recall & F1 score\n",
    "\n",
    "#### SVM model is the slowest of all, took about 2.2 hours + 24GB RAM, for 10k tweets training & 5k tweets testing, so better to skip it for larger datasets\n",
    "+ https://stackoverflow.com/questions/32199996/linux-using-swap-instead-of-ram-with-large-image-processing"
   ]
  },
  {
   "cell_type": "code",
   "execution_count": 13,
   "metadata": {},
   "outputs": [
    {
     "name": "stdout",
     "output_type": "stream",
     "text": [
      "\n",
      "Now SVM model.....\n",
      "No saved model... Creating one!\n",
      "Time to train & save model -> 843.4613010883331\n",
      "Accuracy by SVM -> 69.96996996996997 %\n",
      "Time taken to predict -> 1167.4428622722626\n"
     ]
    },
    {
     "data": {
      "image/png": "[encoded data removed]",
      "text/plain": [
       "<Figure size 900x600 with 1 Axes>"
      ]
     },
     "metadata": {
      "needs_background": "light"
     },
     "output_type": "display_data"
    },
    {
     "name": "stdout",
     "output_type": "stream",
     "text": [
      "              precision    recall  f1-score   support\n",
      "\n",
      "           0       0.64      0.79      0.71       461\n",
      "           4       0.78      0.62      0.69       538\n",
      "\n",
      "    accuracy                           0.70       999\n",
      "   macro avg       0.71      0.71      0.70       999\n",
      "weighted avg       0.71      0.70      0.70       999\n",
      "\n"
     ]
    }
   ],
   "source": [
    "#### SVM model\n",
    "\n",
    "print(\"\\nNow SVM model.....\")\n",
    "SVM_model = SVC()\n",
    "\n",
    "if 'SVM_model' in listdir():\n",
    "    SVM_model = pickle.load(open(\"SVM_model\" ,\"rb\"))\n",
    "    print(\"Time to load saved model...\",time() - start_time)\n",
    "else:\n",
    "    print(\"No saved model... Creating one!\")\n",
    "    SVM_model.fit(X_Train_DF, Y_Train)\n",
    "    with open('SVM_model', 'wb') as f:\n",
    "        pickle.dump(SVM_model,f)\n",
    "    print(\"Time to train & save model ->\",time() - start_time)\n",
    "\n",
    "############################## SVM testing\n",
    "\n",
    "SVM_pred = SVM_model.predict(X_Test_DF)\n",
    "print(\"Accuracy by SVM ->\",(SVM_model.score( X_Test_DF,Y_Test))*100,'%')\n",
    "print(\"Time taken to predict ->\",time() - start_time)\n",
    "\n",
    "#### confusion matrix heatmap\n",
    "plt.figure(dpi=150)\n",
    "mat = confusion_matrix(Y_Test, SVM_pred)\n",
    "sns.heatmap(mat.T, annot=True, fmt='d', cbar=False)\n",
    "\n",
    "plt.title('Confusion Matrix for SVM')\n",
    "plt.xlabel('Original Value')\n",
    "plt.ylabel('Predicted Value')\n",
    "plt.show()\n",
    "\n",
    "# precision, recall, F1\n",
    "print(classification_report(Y_Test, SVM_pred))\n"
   ]
  },
  {
   "cell_type": "markdown",
   "metadata": {},
   "source": [
    "## Result for Decision Tree Classifier\n",
    "* Same as before, .fit() , .predict() & accuracy_score()\n",
    "* Relatively much faster"
   ]
  },
  {
   "cell_type": "code",
   "execution_count": 14,
   "metadata": {},
   "outputs": [
    {
     "name": "stdout",
     "output_type": "stream",
     "text": [
      "\n",
      "Now Decision Tree Classifier...\n",
      "Accuracy by decision tree -> 69.86986986986987 %\n",
      "Time taken for .fit & .predict -> 1172.3926916122437\n"
     ]
    },
    {
     "data": {
      "image/png": "[encoded data removed]",
      "text/plain": [
       "<Figure size 900x600 with 1 Axes>"
      ]
     },
     "metadata": {
      "needs_background": "light"
     },
     "output_type": "display_data"
    },
    {
     "name": "stdout",
     "output_type": "stream",
     "text": [
      "              precision    recall  f1-score   support\n",
      "\n",
      "           0       0.64      0.78      0.70       461\n",
      "           4       0.77      0.63      0.69       538\n",
      "\n",
      "    accuracy                           0.70       999\n",
      "   macro avg       0.71      0.70      0.70       999\n",
      "weighted avg       0.71      0.70      0.70       999\n",
      "\n"
     ]
    }
   ],
   "source": [
    "########## Decision Tree Classifier\n",
    "\n",
    "print(\"\\nNow Decision Tree Classifier...\")\n",
    "DTC = DecisionTreeClassifier(max_depth = 5)\n",
    "\n",
    "# Train Decision Tree Classifer\n",
    "DTC = DTC.fit(X_Train_DF, Y_Train)\n",
    "\n",
    "#Predict the response for test dataset\n",
    "Y_Pred = DTC.predict(X_Test_DF)\n",
    "\n",
    "print(\"Accuracy by decision tree ->\",(accuracy_score(Y_Test_DF, Y_Pred))*100,'%')\n",
    "print(\"Time taken for .fit & .predict ->\",time() - start_time)\n",
    "\n",
    "#### confusion matrix heatmap\n",
    "plt.figure(dpi=150)\n",
    "mat = confusion_matrix(Y_Test, Y_Pred)\n",
    "sns.heatmap(mat.T, annot=True, fmt='d', cbar=False)\n",
    "\n",
    "plt.title('Confusion Matrix for Decision Tree Classifier')\n",
    "plt.xlabel('Original Value')\n",
    "plt.ylabel('Predicted Value')\n",
    "plt.show()\n",
    "\n",
    "# precision, recall, F1\n",
    "print(classification_report(Y_Test, Y_Pred))\n"
   ]
  },
  {
   "cell_type": "markdown",
   "metadata": {},
   "source": [
    "## Result for MLP Classifier\n",
    "* Set the parameters, by default **max_iter** flag is set to 100, which produces errors, increase it to 1000\n",
    "* Same as before, .fit() , .predict() & accuracy_score()\n",
    "* Again, Relatively much faster\n",
    "* Performs multiprocessing"
   ]
  },
  {
   "cell_type": "code",
   "execution_count": 15,
   "metadata": {},
   "outputs": [
    {
     "name": "stdout",
     "output_type": "stream",
     "text": [
      "\n",
      "MLP Classifier now.....\n",
      "Accuracy by MLP Classifier -> 68.66866866866866 %\n",
      "Time taken for .fit & .predict -> 1205.3631665706635\n"
     ]
    },
    {
     "data": {
      "image/png": "[encoded data removed]",
      "text/plain": [
       "<Figure size 900x600 with 1 Axes>"
      ]
     },
     "metadata": {
      "needs_background": "light"
     },
     "output_type": "display_data"
    },
    {
     "name": "stdout",
     "output_type": "stream",
     "text": [
      "              precision    recall  f1-score   support\n",
      "\n",
      "           0       0.63      0.76      0.69       461\n",
      "           4       0.75      0.62      0.68       538\n",
      "\n",
      "    accuracy                           0.69       999\n",
      "   macro avg       0.69      0.69      0.69       999\n",
      "weighted avg       0.70      0.69      0.69       999\n",
      "\n"
     ]
    }
   ],
   "source": [
    "print(\"\\nMLP Classifier now.....\")\n",
    "\n",
    "MLPC = MLPClassifier(solver='lbfgs', max_iter=1000, alpha=1e-5,hidden_layer_sizes=(5, 2), random_state=1)\n",
    "\n",
    "MLPC.fit(X_Train_DF,Y_Train)\n",
    "Y_Pred = MLPC.predict(X_Test_DF)\n",
    "\n",
    "print(\"Accuracy by MLP Classifier ->\",(accuracy_score(Y_Test_DF, Y_Pred))*100,'%')\n",
    "print(\"Time taken for .fit & .predict ->\",time() - start_time)\n",
    "\n",
    "#### confusion matrix heatmap\n",
    "plt.figure(dpi=150)\n",
    "mat = confusion_matrix(Y_Test, Y_Pred)\n",
    "sns.heatmap(mat.T, annot=True, fmt='d', cbar=False)\n",
    "\n",
    "plt.title('Confusion Matrix for Decision Tree Classifier')\n",
    "plt.xlabel('Original Value')\n",
    "plt.ylabel('Predicted Value')\n",
    "plt.show()\n",
    "\n",
    "# precision, recall, F1\n",
    "print(classification_report(Y_Test, Y_Pred))\n",
    "\n",
    "# The classification report can produce a warning (depending on the features impelemented) - \n",
    "#  _classification.py:1221: UndefinedMetricWarning: Precision and F-score are ill-defined and being set to 0.0 in labels with no predicted samples. Use `zero_division` parameter to control this behavior.\n",
    "#  _warn_prf(average, modifier, msg_start, len(result))\n",
    "#\n",
    "# Some useful links for this -\n",
    "# https://stackoverflow.com/questions/54150147/classification-report-precision-and-f-score-are-ill-defined\n",
    "# https://stackoverflow.com/questions/43162506/undefinedmetricwarning-f-score-is-ill-defined-and-being-set-to-0-0-in-labels-wi/47285662\n",
    "#\n"
   ]
  },
  {
   "cell_type": "code",
   "execution_count": null,
   "metadata": {},
   "outputs": [],
   "source": []
  },
  {
   "cell_type": "code",
   "execution_count": null,
   "metadata": {},
   "outputs": [],
   "source": []
  }
 ],
 "metadata": {
  "kernelspec": {
   "display_name": "Python 3",
   "language": "python",
   "name": "python3"
  },
  "language_info": {
   "codemirror_mode": {
    "name": "ipython",
    "version": 3
   },
   "file_extension": ".py",
   "mimetype": "text/x-python",
   "name": "python",
   "nbconvert_exporter": "python",
   "pygments_lexer": "ipython3",
   "version": "3.6.9"
  }
 },
 "nbformat": 4,
 "nbformat_minor": 4
}
